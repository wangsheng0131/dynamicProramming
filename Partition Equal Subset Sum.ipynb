{
 "cells": [
  {
   "cell_type": "markdown",
   "metadata": {},
   "source": [
    "# Partition Equal Subset Sum\n",
    "\n",
    "给定一个非空数组，其中所有的数字都是正整数。问是否可以讲这个数组的元素分成两部分，使得每部分的数字和相等？\n",
    "\n",
    "- 如对[1, 5, 11, 5]，可以分成[1, 5, 5]和[11]两部分，元素和相等，返回true\n",
    "- 如对[1, 2, 3, 5]， 无法分成元素和相等的两部分，返回false"
   ]
  },
  {
   "cell_type": "code",
   "execution_count": 1,
   "metadata": {},
   "outputs": [],
   "source": [
    "import time\n",
    "def countTime(func):\n",
    "    def wrapper(nums):\n",
    "        start_time = time.time()\n",
    "        func(nums)\n",
    "        count = time.time() - start_time\n",
    "        print(\"耗时：{}s\".format(count))\n",
    "    return wrapper"
   ]
  },
  {
   "cell_type": "code",
   "execution_count": 2,
   "metadata": {},
   "outputs": [
    {
     "name": "stdout",
     "output_type": "stream",
     "text": [
      "test_nums [45, 13, 8, 31, 23, 8, 2, 9, 29, 12, 1, 18, 45, 28, 20, 41, 10, 9, 27, 47, 43, 21, 10, 39, 39, 37, 14, 44, 10, 32, 23, 3, 17, 33, 10, 45, 16, 34, 10, 20, 43, 19, 33, 28, 12, 50, 32, 7, 48, 33]\n"
     ]
    }
   ],
   "source": [
    "import random\n",
    "max_num = 50\n",
    "num_n = 50\n",
    "test_nums = [random.randint(1, max_num) for i in range(num_n)]\n",
    "print(\"test_nums\", test_nums)"
   ]
  },
  {
   "cell_type": "code",
   "execution_count": 3,
   "metadata": {},
   "outputs": [],
   "source": [
    "# 重新造了个数据集，随机生成的数据集不能很好地验证效果\n",
    "test_nums = [1,2,1,2,1,2,1,2,1,2,1,2,1,2,1,2,1,2,1,2,1,2,1,2,\n",
    "             1,2,1,2,1,2,1,2,1,2,1,2,1,2,1,2,1,2,1,2,1,2,1,2]"
   ]
  },
  {
   "cell_type": "markdown",
   "metadata": {},
   "source": [
    "## 1.递归算法"
   ]
  },
  {
   "cell_type": "code",
   "execution_count": 4,
   "metadata": {},
   "outputs": [
    {
     "name": "stdout",
     "output_type": "stream",
     "text": [
      "Result: True\n",
      "耗时：20.24883770942688s\n"
     ]
    }
   ],
   "source": [
    "def canPartition(nums, idx, half_sum):\n",
    "    \"\"\"转换函数：f(nums, idx, half_num)  \n",
    "       对于给定的nums数组， 从0到idx是否可以求和得到half_nums\"\"\"\n",
    "    if idx < 0:\n",
    "        return False\n",
    "    \n",
    "    if half_sum == 0:\n",
    "        return True\n",
    "    \n",
    "    return (canPartition(nums, idx-1, half_sum) or canPartition(nums, idx-1, half_sum-nums[idx])) \n",
    "\n",
    "@countTime\n",
    "def main(nums):\n",
    "    total_num = sum(nums)\n",
    "    n = len(nums)\n",
    "    if total_num %2 != 0:\n",
    "        result = False\n",
    "    else:\n",
    "        half_sum = total_num/2\n",
    "        result = canPartition(nums, n-1, half_sum)\n",
    "    print(\"Result:\", result)\n",
    "    \n",
    "main(test_nums)"
   ]
  },
  {
   "cell_type": "markdown",
   "metadata": {},
   "source": [
    "# 2.记忆化搜索"
   ]
  },
  {
   "cell_type": "code",
   "execution_count": 5,
   "metadata": {},
   "outputs": [],
   "source": [
    "import numpy as np"
   ]
  },
  {
   "cell_type": "code",
   "execution_count": 6,
   "metadata": {},
   "outputs": [
    {
     "name": "stdout",
     "output_type": "stream",
     "text": [
      "Result: True\n",
      "耗时：0.0009975433349609375s\n"
     ]
    }
   ],
   "source": [
    "def canPartition(nums, idx, half_sum):\n",
    "    \"\"\"转换函数：f(nums, idx, half_num)  \n",
    "       对于给定的nums数组， 从0到idx是否可以求和得到half_nums\"\"\"\n",
    "    if memo[idx][half_sum] == 0:\n",
    "        return True\n",
    "    elif memo[idx][half_sum] == 1:\n",
    "        return False\n",
    "    \n",
    "    if idx<0 or half_sum<0:\n",
    "        return False\n",
    "    \n",
    "    if half_sum == 0:\n",
    "        return True\n",
    "    \n",
    "    result = (canPartition(nums, idx-1, half_sum) or canPartition(nums, idx-1, half_sum-nums[idx])) \n",
    "    if result:\n",
    "        memo[idx][half_sum] = 1\n",
    "    else:\n",
    "        memo[idx][half_sum] = 0\n",
    "    return result\n",
    "\n",
    "@countTime\n",
    "def main(nums):\n",
    "    total_num = sum(nums)\n",
    "    n = len(nums)\n",
    "    if total_num %2 != 0:\n",
    "        result = False\n",
    "    else:\n",
    "        global memo\n",
    "        half_sum = total_num//2\n",
    "        memo = np.array([[-1] * (half_sum + 1)] * n)\n",
    "        result = canPartition(nums, n-1, half_sum)\n",
    "    print(\"Result:\", result)\n",
    "    \n",
    "main(test_nums)"
   ]
  },
  {
   "cell_type": "markdown",
   "metadata": {},
   "source": [
    "## 3.动态规划"
   ]
  },
  {
   "cell_type": "code",
   "execution_count": 7,
   "metadata": {},
   "outputs": [
    {
     "name": "stdout",
     "output_type": "stream",
     "text": [
      "Result: True\n",
      "耗时：0.004987001419067383s\n"
     ]
    }
   ],
   "source": [
    "def canPartition(nums):\n",
    "    total_num = sum(nums)\n",
    "    n = len(nums)\n",
    "    if total_num %2 != 0:\n",
    "        return False\n",
    "    \n",
    "    # sum是偶数，可以继续计算\n",
    "    C = total_num//2\n",
    "    memo = np.array([False] * (C+1))\n",
    "    \n",
    "    for j in range(0, C+1):\n",
    "        memo[j] = (nums[0] == j)\n",
    "    \n",
    "    for i in range(1, n):\n",
    "        for j in range(C, nums[i]-1, -1):\n",
    "            memo[j] = (memo[j] or memo[j-nums[i]])\n",
    "    \n",
    "    return memo[C]\n",
    "    \n",
    "\n",
    "@countTime\n",
    "def main(nums):\n",
    "    result = canPartition(nums)\n",
    "    print(\"Result:\", result)\n",
    "    \n",
    "main(test_nums)"
   ]
  },
  {
   "cell_type": "code",
   "execution_count": null,
   "metadata": {},
   "outputs": [],
   "source": []
  }
 ],
 "metadata": {
  "kernelspec": {
   "display_name": "Python 3",
   "language": "python",
   "name": "python3"
  },
  "language_info": {
   "codemirror_mode": {
    "name": "ipython",
    "version": 3
   },
   "file_extension": ".py",
   "mimetype": "text/x-python",
   "name": "python",
   "nbconvert_exporter": "python",
   "pygments_lexer": "ipython3",
   "version": "3.7.0"
  }
 },
 "nbformat": 4,
 "nbformat_minor": 2
}
