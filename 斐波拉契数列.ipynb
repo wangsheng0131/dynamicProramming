{
 "cells": [
  {
   "cell_type": "markdown",
   "metadata": {},
   "source": [
    "- f(0) = 1\n",
    "\n",
    "- f(1) = 1\n",
    "\n",
    "- f(n) = f(n-1) + f(n-2)  # when n>=2"
   ]
  },
  {
   "cell_type": "code",
   "execution_count": 1,
   "metadata": {},
   "outputs": [],
   "source": [
    "import time\n",
    "def countTime(func):\n",
    "    def wrapper(n):\n",
    "        start_time = time.time()\n",
    "        func(n)\n",
    "        count = time.time() - start_time\n",
    "        print(\"耗时：{}s\".format(count))\n",
    "    return wrapper"
   ]
  },
  {
   "cell_type": "markdown",
   "metadata": {},
   "source": [
    "### 1.递归方法"
   ]
  },
  {
   "cell_type": "code",
   "execution_count": 2,
   "metadata": {},
   "outputs": [
    {
     "name": "stdout",
     "output_type": "stream",
     "text": [
      "fib(40) 165580141\n",
      "耗时：59.81149125099182s\n"
     ]
    }
   ],
   "source": [
    "def fib(n):\n",
    "    if n in(0, 1):\n",
    "        return 1\n",
    "    return fib(n-1) + fib(n-2)\n",
    "\n",
    "@countTime\n",
    "def main(n):\n",
    "\n",
    "    print(\"fib({})\".format(n), fib(n))\n",
    "\n",
    "main(40)\n"
   ]
  },
  {
   "cell_type": "markdown",
   "metadata": {},
   "source": [
    "### 2.记忆化搜索"
   ]
  },
  {
   "cell_type": "code",
   "execution_count": 3,
   "metadata": {},
   "outputs": [
    {
     "name": "stdout",
     "output_type": "stream",
     "text": [
      "fib(40) 165580141\n",
      "耗时：0.0010113716125488281s\n"
     ]
    }
   ],
   "source": [
    "def fib(n):\n",
    "    memo[0] = 1\n",
    "    memo[1] = 1\n",
    "    if memo[n] == -1:\n",
    "        memo[n] = fib(n-1) + fib(n-2)\n",
    "    return memo[n]\n",
    "    \n",
    "@countTime\n",
    "def main(n):\n",
    "    global memo\n",
    "    memo = [-1] * (n+1)\n",
    "    print(\"fib({})\".format(n), fib(n))\n",
    "\n",
    "main(40)"
   ]
  },
  {
   "cell_type": "markdown",
   "metadata": {},
   "source": [
    "### 3.动态规划"
   ]
  },
  {
   "cell_type": "code",
   "execution_count": 4,
   "metadata": {},
   "outputs": [
    {
     "name": "stdout",
     "output_type": "stream",
     "text": [
      "fib(40) 165580141\n",
      "耗时：0.0020084381103515625s\n"
     ]
    }
   ],
   "source": [
    "def fib(n):\n",
    "    memo = [-1] * (n+1)\n",
    "    memo[0] = 1\n",
    "    memo[1] = 1\n",
    "    \n",
    "    for i in range(2, n+1):\n",
    "        memo[i] = memo[i-1] + memo[i-2]\n",
    "    return memo[n]\n",
    "\n",
    "@countTime\n",
    "def main(n):\n",
    "    print(\"fib({})\".format(n), fib(n))\n",
    "    \n",
    "main(40)"
   ]
  },
  {
   "cell_type": "code",
   "execution_count": null,
   "metadata": {},
   "outputs": [],
   "source": []
  }
 ],
 "metadata": {
  "kernelspec": {
   "display_name": "Python 3",
   "language": "python",
   "name": "python3"
  },
  "language_info": {
   "codemirror_mode": {
    "name": "ipython",
    "version": 3
   },
   "file_extension": ".py",
   "mimetype": "text/x-python",
   "name": "python",
   "nbconvert_exporter": "python",
   "pygments_lexer": "ipython3",
   "version": "3.6.5"
  }
 },
 "nbformat": 4,
 "nbformat_minor": 2
}
