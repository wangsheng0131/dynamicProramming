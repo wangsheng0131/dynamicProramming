{
 "cells": [
  {
   "cell_type": "markdown",
   "metadata": {},
   "source": [
    "# 小偷问题 House Robber\n",
    "\n",
    "- 你是一个专业的小偷，打算洗劫一条街的所有房子。每个房子里面有不同价值的宝物，但是如果你选择偷窃连续的两栋房子，就会触发报警系统。编程求出你最多可以偷窃截止多少价值的宝物？"
   ]
  },
  {
   "cell_type": "markdown",
   "metadata": {},
   "source": [
    "- 房子总数：n\n",
    "- 第i个房子的宝物价值：$v(i)$\n",
    "- 状态：$f(i)$: 考虑从第i~个房子的最大价值总和\n",
    "- 状态转移方程：$f(0) = max(v(0)+f(2), v(1)+f(3), v(2)+f(4), ……, v(n-3)+f(n-1), v(n-2), v(n-1))$"
   ]
  },
  {
   "cell_type": "code",
   "execution_count": 1,
   "metadata": {},
   "outputs": [],
   "source": [
    "import time\n",
    "def countTime(func):\n",
    "    def wrapper(n):\n",
    "        start_time = time.time()\n",
    "        func(n)\n",
    "        count = time.time() - start_time\n",
    "        print(\"耗时：{}s\".format(count))\n",
    "    return wrapper"
   ]
  },
  {
   "cell_type": "code",
   "execution_count": 2,
   "metadata": {},
   "outputs": [
    {
     "name": "stdout",
     "output_type": "stream",
     "text": [
      "[2, 7, 6, 3, 2, 8, 10, 8, 3, 3, 5, 2, 4, 3, 3, 7, 5, 6, 8, 9, 8, 5, 10, 7, 9, 8, 6, 3, 6, 6, 6, 10, 8, 7, 5, 4, 2, 1, 3, 5]\n"
     ]
    }
   ],
   "source": [
    "import random \n",
    "test_nums = [random.randint(1,10) for i in range(40)]\n",
    "print(test_nums)"
   ]
  },
  {
   "cell_type": "markdown",
   "metadata": {},
   "source": [
    "## 1.递归解法"
   ]
  }
 ],
 "metadata": {
  "kernelspec": {
   "display_name": "Python 3",
   "language": "python",
   "name": "python3"
  },
  "language_info": {
   "codemirror_mode": {
    "name": "ipython",
    "version": 3
   },
   "file_extension": ".py",
   "mimetype": "text/x-python",
   "name": "python",
   "nbconvert_exporter": "python",
   "pygments_lexer": "ipython3",
   "version": "3.6.5"
  }
 },
 "nbformat": 4,
 "nbformat_minor": 2
}
