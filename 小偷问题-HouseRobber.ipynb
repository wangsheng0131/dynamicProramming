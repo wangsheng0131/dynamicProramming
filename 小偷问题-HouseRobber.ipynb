{
 "cells": [
  {
   "cell_type": "markdown",
   "metadata": {},
   "source": [
    "# 小偷问题 House Robber\n",
    "\n",
    "- 你是一个专业的小偷，打算洗劫一条街的所有房子。每个房子里面有不同价值的宝物，但是如果你选择偷窃连续的两栋房子，就会触发报警系统。编程求出你最多可以偷窃截止多少价值的宝物？"
   ]
  },
  {
   "cell_type": "markdown",
   "metadata": {},
   "source": [
    "## 分析\n",
    "- 房子总数：n\n",
    "- 第i个房子的宝物价值：$v(i)$\n",
    "- 状态：$f(i)$: 考虑从第[i~n-1)个房子的最大价值总和\n",
    "- 状态转移方程：$f(0) = max(v(0)+f(2), v(1)+f(3), v(2)+f(4), ……, v(n-3)+f(n-1), v(n-2), v(n-1))$"
   ]
  },
  {
   "cell_type": "code",
   "execution_count": 1,
   "metadata": {},
   "outputs": [],
   "source": [
    "import time\n",
    "def countTime(func):\n",
    "    def wrapper(n):\n",
    "        start_time = time.time()\n",
    "        func(n)\n",
    "        count = time.time() - start_time\n",
    "        print(\"耗时：{}s\".format(count))\n",
    "    return wrapper"
   ]
  },
  {
   "cell_type": "code",
   "execution_count": 2,
   "metadata": {},
   "outputs": [
    {
     "name": "stdout",
     "output_type": "stream",
     "text": [
      "[4, 9, 7, 9, 1, 2, 9, 9, 8, 10, 6, 3, 4, 8, 8, 1, 6, 6, 2, 5, 5, 9, 5, 6, 3, 4, 1, 4, 7, 4, 6, 1, 7, 6, 9, 3, 2, 5, 9, 7]\n"
     ]
    }
   ],
   "source": [
    "import random \n",
    "test_nums = [random.randint(1,10) for i in range(40)]\n",
    "print(test_nums)"
   ]
  },
  {
   "cell_type": "markdown",
   "metadata": {},
   "source": [
    "## 1.递归解法"
   ]
  },
  {
   "cell_type": "code",
   "execution_count": 3,
   "metadata": {},
   "outputs": [
    {
     "name": "stdout",
     "output_type": "stream",
     "text": [
      "result: 124\n",
      "耗时：176.02153611183167s\n"
     ]
    }
   ],
   "source": [
    "def rob(nums, idx):\n",
    "    \"\"\"考虑从idx开始偷，最多可偷多少\"\"\"\n",
    "    if idx >= len(nums):\n",
    "        return 0\n",
    "    \n",
    "    res = 0\n",
    "    for i in range(idx, len(nums)):\n",
    "        res = max(res, nums[i] + rob(nums, i+2))\n",
    "    return res\n",
    "\n",
    "@countTime\n",
    "def main(nums):\n",
    "    print(\"result:\", rob(nums, 0))\n",
    "\n",
    "main(test_nums)"
   ]
  },
  {
   "cell_type": "markdown",
   "metadata": {},
   "source": [
    "## 2.记忆化搜索"
   ]
  },
  {
   "cell_type": "code",
   "execution_count": 4,
   "metadata": {},
   "outputs": [
    {
     "name": "stdout",
     "output_type": "stream",
     "text": [
      "result: 124\n",
      "耗时：0.008013486862182617s\n"
     ]
    }
   ],
   "source": [
    "def rob(nums, idx):\n",
    "    \"\"\"考虑从idx开始偷，最多可偷多少\"\"\"\n",
    "    if idx >= len(nums):\n",
    "        return 0\n",
    "    \n",
    "    if memo[idx] != -1:\n",
    "        return memo[idx]\n",
    "    res = 0\n",
    "    for i in range(idx, len(nums)):\n",
    "        res = max(res, nums[i] + rob(nums, i+2))\n",
    "    memo[idx] = res\n",
    "    return res\n",
    "\n",
    "@countTime\n",
    "def main(nums):\n",
    "    global memo\n",
    "    memo = [-1] * len(nums)\n",
    "    print(\"result:\", rob(nums, 0))\n",
    "\n",
    "main(test_nums)"
   ]
  },
  {
   "cell_type": "markdown",
   "metadata": {},
   "source": [
    "## 3.动态规划"
   ]
  },
  {
   "cell_type": "code",
   "execution_count": 5,
   "metadata": {},
   "outputs": [
    {
     "name": "stdout",
     "output_type": "stream",
     "text": [
      "result: 124\n",
      "耗时：0.004556179046630859s\n"
     ]
    }
   ],
   "source": [
    "def rob(nums, idx):\n",
    "    \"\"\"考虑从idx开始偷，最多可偷多少\"\"\"\n",
    "    n = len(nums)\n",
    "    memo = [-1] * n\n",
    "    for i in range(n-1, -1, -1):\n",
    "        for j in range(i, n):\n",
    "            memo[i] = max(memo[i], nums[j] + (memo[j+2] if (j+2)<n else 0))\n",
    "    return memo[0]\n",
    "    \n",
    "@countTime\n",
    "def main(nums):\n",
    "    print(\"result:\", rob(nums, 0))\n",
    "\n",
    "main(test_nums)"
   ]
  },
  {
   "cell_type": "code",
   "execution_count": null,
   "metadata": {},
   "outputs": [],
   "source": []
  }
 ],
 "metadata": {
  "kernelspec": {
   "display_name": "Python 3",
   "language": "python",
   "name": "python3"
  },
  "language_info": {
   "codemirror_mode": {
    "name": "ipython",
    "version": 3
   },
   "file_extension": ".py",
   "mimetype": "text/x-python",
   "name": "python",
   "nbconvert_exporter": "python",
   "pygments_lexer": "ipython3",
   "version": "3.7.0"
  }
 },
 "nbformat": 4,
 "nbformat_minor": 2
}
