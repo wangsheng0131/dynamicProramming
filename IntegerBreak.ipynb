{
 "cells": [
  {
   "cell_type": "markdown",
   "metadata": {},
   "source": [
    "Integer Break\n",
    "- 给定一个正数n，可以将其分割成多个数字的和，若要让这些数字的乘积最大，求分割的方法(至少要分割成两个数)。算法返回这个最大的乘积。"
   ]
  },
  {
   "cell_type": "code",
   "execution_count": 1,
   "metadata": {},
   "outputs": [],
   "source": [
    "import time\n",
    "def countTime(func):\n",
    "    def wrapper(n):\n",
    "        start_time = time.time()\n",
    "        func(n)\n",
    "        count = time.time() - start_time\n",
    "        print(\"耗时：{}s\".format(count))\n",
    "    return wrapper"
   ]
  },
  {
   "cell_type": "code",
   "execution_count": 2,
   "metadata": {},
   "outputs": [],
   "source": [
    "def max3(a, b, c):\n",
    "    return max(a, max(b, c))"
   ]
  },
  {
   "cell_type": "markdown",
   "metadata": {},
   "source": [
    "### 1.递归解法"
   ]
  },
  {
   "cell_type": "code",
   "execution_count": 3,
   "metadata": {},
   "outputs": [],
   "source": [
    "def break_integer(n):\n",
    "    if n == 1:\n",
    "        return 1\n",
    "    res = -1\n",
    "    for i in range(1, n):\n",
    "        res = max3(res, i*(n-i), i*break_integer(n-i))\n",
    "    return res"
   ]
  },
  {
   "cell_type": "code",
   "execution_count": 4,
   "metadata": {},
   "outputs": [
    {
     "name": "stdout",
     "output_type": "stream",
     "text": [
      "result 1458\n",
      "耗时：0.5016565322875977s\n"
     ]
    }
   ],
   "source": [
    "@countTime\n",
    "def main(n):\n",
    "    print(\"result\", break_integer(n))\n",
    "\n",
    "main(20)"
   ]
  },
  {
   "cell_type": "markdown",
   "metadata": {},
   "source": [
    "### 2.记忆化搜索"
   ]
  },
  {
   "cell_type": "code",
   "execution_count": 5,
   "metadata": {
    "scrolled": true
   },
   "outputs": [
    {
     "name": "stdout",
     "output_type": "stream",
     "text": [
      "result 1458\n",
      "耗时：0.0s\n"
     ]
    }
   ],
   "source": [
    "def break_integer(n):\n",
    "\n",
    "    if memo[n] != -1:\n",
    "        return memo[n]\n",
    "    else:\n",
    "        res = -1\n",
    "        for i in range(1, n):\n",
    "            res = max3(res, i*(n-i), i*break_integer(n-i))\n",
    "        memo[n] = res\n",
    "        return res\n",
    "\n",
    "@countTime\n",
    "def main(n):\n",
    "    global memo\n",
    "    memo = [-1] * (n+1)\n",
    "    memo[1] = 1\n",
    "    print(\"result\", break_integer(n))\n",
    "\n",
    "main(20)"
   ]
  },
  {
   "cell_type": "markdown",
   "metadata": {},
   "source": [
    "### 3.动态规划"
   ]
  },
  {
   "cell_type": "code",
   "execution_count": 6,
   "metadata": {},
   "outputs": [
    {
     "name": "stdout",
     "output_type": "stream",
     "text": [
      "result 1458\n",
      "耗时：0.0029730796813964844s\n"
     ]
    }
   ],
   "source": [
    "def break_integer(n):\n",
    "    memo = [-1] * (n+1)\n",
    "    memo[1] = 1\n",
    "    \n",
    "    for i in range(2, n+1):\n",
    "        for j in range(1, i):\n",
    "            memo[i] = max3(memo[i], j*(i-j) , j*memo[i-j])\n",
    "    return memo[n]\n",
    "\n",
    "@countTime\n",
    "def main(n):\n",
    "    print(\"result\", break_integer(n))\n",
    "\n",
    "main(20)"
   ]
  },
  {
   "cell_type": "code",
   "execution_count": null,
   "metadata": {},
   "outputs": [],
   "source": []
  }
 ],
 "metadata": {
  "kernelspec": {
   "display_name": "Python 3",
   "language": "python",
   "name": "python3"
  },
  "language_info": {
   "codemirror_mode": {
    "name": "ipython",
    "version": 3
   },
   "file_extension": ".py",
   "mimetype": "text/x-python",
   "name": "python",
   "nbconvert_exporter": "python",
   "pygments_lexer": "ipython3",
   "version": "3.6.5"
  }
 },
 "nbformat": 4,
 "nbformat_minor": 2
}
