{
 "cells": [
  {
   "cell_type": "markdown",
   "metadata": {},
   "source": [
    "# 0-1背包问题\n",
    "- 有一个背包，它的容量为C(Capacity)。现在有n中不同的物品，编号为0……n-1， 其中每一件物品的重量为$w(i)$，价值为$v(i)$。问可以向这个背包中盛放哪些物品，是的在不超过背包容量的基础上，物品的总价值最大。"
   ]
  },
  {
   "cell_type": "markdown",
   "metadata": {},
   "source": [
    "## 分析\n",
    "- 状态定义，$F(n, C)$， 考虑将n个物品放进容量为C的背包，使得价值最大\n",
    "- 状态转移方程：\n",
    "    - $F(i,c) = F(i-1, c)$  # 新来一个物品，不放进来\n",
    "    - $F(i,c) = v(i) + F(i-1, c-w(i))$   # 新来一个物品放进来\n",
    "    - 以上两种方式取最大\n",
    "    - $F(i,c) = max(F(i-1, c), v(i) + F(i-1, c-w(i)))$"
   ]
  },
  {
   "cell_type": "code",
   "execution_count": 1,
   "metadata": {},
   "outputs": [],
   "source": [
    "import time\n",
    "def countTime(func):\n",
    "    def wrapper(V, W, idx, C):\n",
    "        start_time = time.time()\n",
    "        func(V, W, idx, C)\n",
    "        count = time.time() - start_time\n",
    "        print(\"耗时：{}s\".format(count))\n",
    "    return wrapper"
   ]
  },
  {
   "cell_type": "code",
   "execution_count": 2,
   "metadata": {},
   "outputs": [
    {
     "name": "stdout",
     "output_type": "stream",
     "text": [
      "价值数组 [4, 8, 2, 7, 1, 2, 6, 2, 7, 7, 2, 8, 2, 2, 3, 6, 3, 3, 1, 2, 3, 7, 1, 7, 2]\n",
      "重量数组 [3, 6, 6, 3, 2, 4, 2, 2, 5, 5, 5, 5, 7, 4, 7, 5, 2, 7, 3, 5, 5, 5, 7, 3, 8]\n"
     ]
    }
   ],
   "source": [
    "import random\n",
    "n_goods = 25   # 物品总数\n",
    "test_C = 100\n",
    "test_V = [random.randint(1, 8) for i in range(n_goods)]   # 价值数组\n",
    "test_W = [random.randint(1, 8) for i in range(n_goods)]   # 重量数组\n",
    "print(\"价值数组\", test_V)\n",
    "print(\"重量数组\", test_W)"
   ]
  },
  {
   "cell_type": "markdown",
   "metadata": {},
   "source": [
    "## 1.递归算法"
   ]
  },
  {
   "cell_type": "code",
   "execution_count": 3,
   "metadata": {},
   "outputs": [
    {
     "name": "stdout",
     "output_type": "stream",
     "text": [
      "result: 94\n",
      "耗时：39.183289766311646s\n"
     ]
    }
   ],
   "source": [
    "def best_value1(V, W, idx, C):\n",
    "    if C <= 0 or idx < 0:\n",
    "        return 0\n",
    "    res = best_value1(V, W, idx-1, C);\n",
    "    if W[idx] <= C:\n",
    "        res = max(res, V[idx] + best_value1(V, W, idx-1, C-W[idx]))\n",
    "    return res\n",
    "\n",
    "@countTime\n",
    "def main(V, W, idx, C):\n",
    "    print(\"result:\", best_value1(V, W, idx-1, C))\n",
    "    \n",
    "main(test_V, test_W, n_goods, test_C)"
   ]
  },
  {
   "cell_type": "markdown",
   "metadata": {},
   "source": [
    "## 2.记忆化搜索"
   ]
  },
  {
   "cell_type": "code",
   "execution_count": 4,
   "metadata": {},
   "outputs": [],
   "source": [
    "import numpy as np"
   ]
  },
  {
   "cell_type": "code",
   "execution_count": 5,
   "metadata": {},
   "outputs": [
    {
     "name": "stdout",
     "output_type": "stream",
     "text": [
      "result: 94\n",
      "耗时：0.004984378814697266s\n"
     ]
    }
   ],
   "source": [
    "def best_value2(V, W, idx, C):\n",
    "    if C <= 0 or idx < 0:\n",
    "        return 0\n",
    "    \n",
    "    if memo[idx][C] != -1:\n",
    "        return memo[idx][C]\n",
    "    \n",
    "    res = best_value2(V, W, idx-1, C);\n",
    "    if W[idx] <= C:\n",
    "        res = max(res, V[idx] + best_value2(V, W, idx-1, C-W[idx]))\n",
    "    memo[idx][C] = res\n",
    "    return res\n",
    "\n",
    "@countTime\n",
    "def main(V, W, idx, C):\n",
    "    global memo\n",
    "    memo = np.array([[-1] * (C+1)] * idx)\n",
    "    print(\"result:\", best_value2(V, W, idx-1, C))\n",
    "    \n",
    "main(test_V, test_W, n_goods, test_C)"
   ]
  },
  {
   "cell_type": "markdown",
   "metadata": {},
   "source": [
    "## 3.动态规划"
   ]
  },
  {
   "cell_type": "code",
   "execution_count": 6,
   "metadata": {},
   "outputs": [
    {
     "name": "stdout",
     "output_type": "stream",
     "text": [
      "result: 94\n",
      "耗时：0.010972261428833008s\n"
     ]
    }
   ],
   "source": [
    "def best_value3(V, W, C):\n",
    "    assert len(V)==len(W), \"value列表和weight列表不一样长\"\n",
    "    n = len(V)\n",
    "    if n<=0:\n",
    "        return 0\n",
    "    memo = np.array([[-1] * (C+1)] * n)\n",
    "    for j in range(0, C+1):\n",
    "        memo[0][j] = (V[0] if j>= W[0] else 0)\n",
    "        \n",
    "    for i in range(1, n):\n",
    "        for j in range(0, C+1):\n",
    "            memo[i][j] = memo[i-1][j]\n",
    "            if j>=W[i]:\n",
    "                memo[i][j] = max(memo[i][j], V[i] + memo[i-1][j-W[i]])\n",
    "    return memo[n-1][C]\n",
    "\n",
    "@countTime\n",
    "def main(test_V, test_W, n_goods, test_C):\n",
    "    print(\"result:\", best_value3(test_V, test_W, test_C))\n",
    "    \n",
    "main(test_V, test_W, n_goods, test_C)"
   ]
  },
  {
   "cell_type": "markdown",
   "metadata": {},
   "source": [
    "## 4.动态规划的空间优化-1"
   ]
  },
  {
   "cell_type": "markdown",
   "metadata": {},
   "source": [
    "3中的空间复杂度是$O(N*C)$的，其实可以优化倒$O（2*C）$的"
   ]
  },
  {
   "cell_type": "code",
   "execution_count": 7,
   "metadata": {},
   "outputs": [
    {
     "name": "stdout",
     "output_type": "stream",
     "text": [
      "result: 94\n",
      "耗时：0.013961315155029297s\n"
     ]
    }
   ],
   "source": [
    "def best_value3(V, W, C):\n",
    "    assert len(V)==len(W), \"value列表和weight列表不一样长\"\n",
    "    n = len(V)\n",
    "    if n<=0:\n",
    "        return 0\n",
    "    memo = np.array([[-1] * (C+1)] * n)\n",
    "    for j in range(0, C+1):\n",
    "        memo[0][j] = (V[0] if j>= W[0] else 0)\n",
    "        \n",
    "    for i in range(1, n):\n",
    "        for j in range(0, C+1):\n",
    "            memo[i%2][j] = memo[(i-1)%2][j]\n",
    "            if j>=W[i]:\n",
    "                memo[i%2][j] = max(memo[i%2][j], V[i] + memo[(i-1)%2][j-W[i]])\n",
    "    return memo[(n-1)%2][C]\n",
    "\n",
    "@countTime\n",
    "def main(test_V, test_W, n_goods, test_C):\n",
    "    print(\"result:\", best_value3(test_V, test_W, test_C))\n",
    "    \n",
    "main(test_V, test_W, n_goods, test_C)"
   ]
  },
  {
   "cell_type": "markdown",
   "metadata": {},
   "source": [
    "## 5.动态规划的空间优化-2\n",
    " \n",
    " 4中的方法可以进一步优化，空间复杂度上可以优化到真正的$O(C)$，且代码上会更贱简介"
   ]
  },
  {
   "cell_type": "code",
   "execution_count": 8,
   "metadata": {},
   "outputs": [
    {
     "name": "stdout",
     "output_type": "stream",
     "text": [
      "result: 94\n",
      "耗时：0.006964921951293945s\n"
     ]
    }
   ],
   "source": [
    "def best_value3(V, W, C):\n",
    "    assert len(V)==len(W), \"value列表和weight列表不一样长\"\n",
    "    n = len(V)\n",
    "    if n<=0:\n",
    "        return 0\n",
    "    memo = np.array([-1] * (C+1))\n",
    "    for j in range(0, C+1):\n",
    "        memo[j] = (V[0] if j>= W[0] else 0)\n",
    "        \n",
    "    for i in range(1, n):\n",
    "        for j in range(C, -1, -1):\n",
    "            if j>=W[i]:\n",
    "                memo[j] = max(memo[j], V[i] + memo[j-W[i]])\n",
    "    return memo[C]\n",
    "\n",
    "@countTime\n",
    "def main(test_V, test_W, n_goods, test_C):\n",
    "    print(\"result:\", best_value3(test_V, test_W, test_C))\n",
    "    \n",
    "main(test_V, test_W, n_goods, test_C)"
   ]
  },
  {
   "cell_type": "markdown",
   "metadata": {},
   "source": [
    "## Notice:\n",
    "二维数组的初始化和数值替换可能有问题，就是因为这个问题，我特么debug了N长时间"
   ]
  },
  {
   "cell_type": "code",
   "execution_count": 9,
   "metadata": {},
   "outputs": [
    {
     "data": {
      "text/plain": [
       "[[-1, -1, -1, -1, -1, -1, -1, -1, -1, -1, -1],\n",
       " [-1, -1, -1, -1, -1, -1, -1, -1, -1, -1, -1],\n",
       " [-1, -1, -1, -1, -1, -1, -1, -1, -1, -1, -1],\n",
       " [-1, -1, -1, -1, -1, -1, -1, -1, -1, -1, -1],\n",
       " [-1, -1, -1, -1, -1, -1, -1, -1, -1, -1, -1]]"
      ]
     },
     "execution_count": 9,
     "metadata": {},
     "output_type": "execute_result"
    }
   ],
   "source": [
    "n = 5\n",
    "c = 10\n",
    "a = [[-1] * (c+1)] * n\n",
    "a"
   ]
  },
  {
   "cell_type": "code",
   "execution_count": 10,
   "metadata": {},
   "outputs": [
    {
     "data": {
      "text/plain": [
       "[[-1, -1, -1, -1, -1, -1, -1, -1, -1, -1, 9],\n",
       " [-1, -1, -1, -1, -1, -1, -1, -1, -1, -1, 9],\n",
       " [-1, -1, -1, -1, -1, -1, -1, -1, -1, -1, 9],\n",
       " [-1, -1, -1, -1, -1, -1, -1, -1, -1, -1, 9],\n",
       " [-1, -1, -1, -1, -1, -1, -1, -1, -1, -1, 9]]"
      ]
     },
     "execution_count": 10,
     "metadata": {},
     "output_type": "execute_result"
    }
   ],
   "source": [
    "a[n-1][c] = 9\n",
    "a"
   ]
  },
  {
   "cell_type": "code",
   "execution_count": 11,
   "metadata": {},
   "outputs": [
    {
     "data": {
      "text/plain": [
       "array([[-1, -1, -1, -1, -1, -1, -1, -1, -1, -1, -1],\n",
       "       [-1, -1, -1, -1, -1, -1, -1, -1, -1, -1, -1],\n",
       "       [-1, -1, -1, -1, -1, -1, -1, -1, -1, -1, -1],\n",
       "       [-1, -1, -1, -1, -1, -1, -1, -1, -1, -1, -1],\n",
       "       [-1, -1, -1, -1, -1, -1, -1, -1, -1, -1, -1]])"
      ]
     },
     "execution_count": 11,
     "metadata": {},
     "output_type": "execute_result"
    }
   ],
   "source": [
    "b = np.array([[-1] * (c+1)] * n)\n",
    "b"
   ]
  },
  {
   "cell_type": "code",
   "execution_count": 12,
   "metadata": {},
   "outputs": [
    {
     "data": {
      "text/plain": [
       "array([[-1, -1, -1, -1, -1, -1, -1, -1, -1, -1, -1],\n",
       "       [-1, -1, -1, -1, -1, -1, -1, -1, -1, -1, -1],\n",
       "       [-1, -1, -1, -1, -1, -1, -1, -1, -1, -1, -1],\n",
       "       [-1, -1, -1, -1, -1, -1, -1, -1, -1, -1, -1],\n",
       "       [-1, -1, -1, -1, -1, -1, -1, -1, -1, -1,  9]])"
      ]
     },
     "execution_count": 12,
     "metadata": {},
     "output_type": "execute_result"
    }
   ],
   "source": [
    "b[n-1][c] = 9\n",
    "b"
   ]
  },
  {
   "cell_type": "code",
   "execution_count": null,
   "metadata": {},
   "outputs": [],
   "source": []
  }
 ],
 "metadata": {
  "kernelspec": {
   "display_name": "Python 3",
   "language": "python",
   "name": "python3"
  },
  "language_info": {
   "codemirror_mode": {
    "name": "ipython",
    "version": 3
   },
   "file_extension": ".py",
   "mimetype": "text/x-python",
   "name": "python",
   "nbconvert_exporter": "python",
   "pygments_lexer": "ipython3",
   "version": "3.7.0"
  }
 },
 "nbformat": 4,
 "nbformat_minor": 2
}
