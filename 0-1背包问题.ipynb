{
 "cells": [
  {
   "cell_type": "markdown",
   "metadata": {},
   "source": [
    "# 0-1背包问题\n",
    "- 有一个背包，它的容量为C(Capacity)。现在有n中不同的物品，编号为0……n-1， 其中每一件物品的重量为$w(i)$，价值为$v(i)$。问可以向这个背包中盛放哪些物品，是的在不超过背包容量的基础上，物品的总价值最大。"
   ]
  },
  {
   "cell_type": "markdown",
   "metadata": {},
   "source": [
    "## 分析\n",
    "- 状态定义，$F(n, C)$， 考虑将n个物品放进容量为C的背包，使得价值最大\n",
    "- 状态转移方程：\n",
    "    - $F(i,c) = F(i-1, c)$  # 新来一个物品，不放进来\n",
    "    - $F(i,c) = v(i) + F(i-1, c-w(i))$   # 新来一个物品放进来\n",
    "    - 以上两种方式取最大\n",
    "    - $F(i,c) = max(F(i-1, c), v(i) + F(i-1, c-w(i)))$"
   ]
  },
  {
   "cell_type": "code",
   "execution_count": 1,
   "metadata": {},
   "outputs": [],
   "source": [
    "import time\n",
    "def countTime(func):\n",
    "    def wrapper(V, W, idx, C):\n",
    "        start_time = time.time()\n",
    "        func(V, W, idx, C)\n",
    "        count = time.time() - start_time\n",
    "        print(\"耗时：{}s\".format(count))\n",
    "    return wrapper"
   ]
  },
  {
   "cell_type": "code",
   "execution_count": 2,
   "metadata": {},
   "outputs": [
    {
     "name": "stdout",
     "output_type": "stream",
     "text": [
      "价值数组 [1, 5, 7, 5, 1, 7, 5, 2, 2, 1, 5, 4, 3, 2, 5, 6, 8, 1, 2, 8, 8, 4, 6, 1, 7]\n",
      "重量数组 [5, 2, 6, 8, 7, 8, 5, 4, 4, 4, 5, 3, 6, 4, 4, 7, 2, 4, 8, 5, 6, 7, 2, 4, 5]\n"
     ]
    }
   ],
   "source": [
    "import random\n",
    "n_goods = 25   # 物品总数\n",
    "test_C = 100\n",
    "test_V = [random.randint(1, 8) for i in range(n_goods)]   # 价值数组\n",
    "test_W = [random.randint(1, 8) for i in range(n_goods)]   # 重量数组\n",
    "print(\"价值数组\", test_V)\n",
    "print(\"重量数组\", test_W)"
   ]
  },
  {
   "cell_type": "markdown",
   "metadata": {},
   "source": [
    "## 1.递归算法"
   ]
  },
  {
   "cell_type": "code",
   "execution_count": 3,
   "metadata": {},
   "outputs": [
    {
     "name": "stdout",
     "output_type": "stream",
     "text": [
      "result: 100\n",
      "耗时：30.493993520736694s\n"
     ]
    }
   ],
   "source": [
    "def best_value1(V, W, idx, C):\n",
    "    if C <= 0 or idx < 0:\n",
    "        return 0\n",
    "    res = best_value1(V, W, idx-1, C);\n",
    "    if W[idx] <= C:\n",
    "        res = max(res, V[idx] + best_value1(V, W, idx-1, C-W[idx]))\n",
    "    return res\n",
    "\n",
    "@countTime\n",
    "def main(V, W, idx, C):\n",
    "    print(\"result:\", best_value1(V, W, idx-1, C))\n",
    "    \n",
    "main(test_V, test_W, n_goods, test_C)"
   ]
  },
  {
   "cell_type": "markdown",
   "metadata": {},
   "source": [
    "## 2.记忆化搜索"
   ]
  },
  {
   "cell_type": "code",
   "execution_count": 4,
   "metadata": {},
   "outputs": [],
   "source": [
    "import numpy as np"
   ]
  },
  {
   "cell_type": "code",
   "execution_count": 5,
   "metadata": {},
   "outputs": [
    {
     "name": "stdout",
     "output_type": "stream",
     "text": [
      "result: 100\n",
      "耗时：0.008697986602783203s\n"
     ]
    }
   ],
   "source": [
    "def best_value2(V, W, idx, C):\n",
    "    if C <= 0 or idx < 0:\n",
    "        return 0\n",
    "    \n",
    "    if memo[idx][C] != -1:\n",
    "        return memo[idx][C]\n",
    "    \n",
    "    res = best_value2(V, W, idx-1, C);\n",
    "    if W[idx] <= C:\n",
    "        res = max(res, V[idx] + best_value2(V, W, idx-1, C-W[idx]))\n",
    "    memo[idx][C] = res\n",
    "    return res\n",
    "\n",
    "@countTime\n",
    "def main(V, W, idx, C):\n",
    "    global memo\n",
    "    memo = np.array([[-1] * (C+1)] * idx)\n",
    "    print(\"result:\", best_value2(V, W, idx-1, C))\n",
    "    \n",
    "main(test_V, test_W, n_goods, test_C)"
   ]
  },
  {
   "cell_type": "markdown",
   "metadata": {},
   "source": [
    "## 3.动态规划"
   ]
  },
  {
   "cell_type": "code",
   "execution_count": 6,
   "metadata": {},
   "outputs": [
    {
     "name": "stdout",
     "output_type": "stream",
     "text": [
      "result: 100\n",
      "耗时：0.007692813873291016s\n"
     ]
    }
   ],
   "source": [
    "def best_value3(V, W, C):\n",
    "    assert len(V)==len(W), \"value列表和weight列表不一样长\"\n",
    "    n = len(V)\n",
    "    if n<=0:\n",
    "        return 0\n",
    "    memo = np.array([[-1] * (C+1)] * n)\n",
    "    for j in range(0, C+1):\n",
    "        memo[0][j] = (V[0] if j>= W[0] else 0)\n",
    "        \n",
    "    for i in range(1, n):\n",
    "        for j in range(0, C+1):\n",
    "            memo[i][j] = memo[i-1][j]\n",
    "            if j>=W[i]:\n",
    "                memo[i][j] = max(memo[i][j], V[i] + memo[i-1][j-W[i]])\n",
    "    return memo[n-1][C]\n",
    "\n",
    "@countTime\n",
    "def main(test_V, test_W, n_goods, test_C):\n",
    "    print(\"result:\", best_value3(test_V, test_W, test_C))\n",
    "    \n",
    "main(test_V, test_W, n_goods, test_C)"
   ]
  },
  {
   "cell_type": "markdown",
   "metadata": {},
   "source": [
    "## Notice:\n",
    "二维数组的初始化和数值替换可能有问题，就是因为这个问题，我特么debug了N长时间"
   ]
  },
  {
   "cell_type": "code",
   "execution_count": 7,
   "metadata": {},
   "outputs": [
    {
     "data": {
      "text/plain": [
       "[[-1, -1, -1, -1, -1, -1, -1, -1, -1, -1, -1],\n",
       " [-1, -1, -1, -1, -1, -1, -1, -1, -1, -1, -1],\n",
       " [-1, -1, -1, -1, -1, -1, -1, -1, -1, -1, -1],\n",
       " [-1, -1, -1, -1, -1, -1, -1, -1, -1, -1, -1],\n",
       " [-1, -1, -1, -1, -1, -1, -1, -1, -1, -1, -1]]"
      ]
     },
     "execution_count": 7,
     "metadata": {},
     "output_type": "execute_result"
    }
   ],
   "source": [
    "n = 5\n",
    "c = 10\n",
    "a = [[-1] * (c+1)] * n\n",
    "a"
   ]
  },
  {
   "cell_type": "code",
   "execution_count": 8,
   "metadata": {},
   "outputs": [
    {
     "data": {
      "text/plain": [
       "[[-1, -1, -1, -1, -1, -1, -1, -1, -1, -1, 9],\n",
       " [-1, -1, -1, -1, -1, -1, -1, -1, -1, -1, 9],\n",
       " [-1, -1, -1, -1, -1, -1, -1, -1, -1, -1, 9],\n",
       " [-1, -1, -1, -1, -1, -1, -1, -1, -1, -1, 9],\n",
       " [-1, -1, -1, -1, -1, -1, -1, -1, -1, -1, 9]]"
      ]
     },
     "execution_count": 8,
     "metadata": {},
     "output_type": "execute_result"
    }
   ],
   "source": [
    "a[n-1][c] = 9\n",
    "a"
   ]
  },
  {
   "cell_type": "code",
   "execution_count": 9,
   "metadata": {},
   "outputs": [
    {
     "data": {
      "text/plain": [
       "array([[-1, -1, -1, -1, -1, -1, -1, -1, -1, -1, -1],\n",
       "       [-1, -1, -1, -1, -1, -1, -1, -1, -1, -1, -1],\n",
       "       [-1, -1, -1, -1, -1, -1, -1, -1, -1, -1, -1],\n",
       "       [-1, -1, -1, -1, -1, -1, -1, -1, -1, -1, -1],\n",
       "       [-1, -1, -1, -1, -1, -1, -1, -1, -1, -1, -1]])"
      ]
     },
     "execution_count": 9,
     "metadata": {},
     "output_type": "execute_result"
    }
   ],
   "source": [
    "b = np.array([[-1] * (c+1)] * n)\n",
    "b"
   ]
  },
  {
   "cell_type": "code",
   "execution_count": 10,
   "metadata": {},
   "outputs": [
    {
     "data": {
      "text/plain": [
       "array([[-1, -1, -1, -1, -1, -1, -1, -1, -1, -1, -1],\n",
       "       [-1, -1, -1, -1, -1, -1, -1, -1, -1, -1, -1],\n",
       "       [-1, -1, -1, -1, -1, -1, -1, -1, -1, -1, -1],\n",
       "       [-1, -1, -1, -1, -1, -1, -1, -1, -1, -1, -1],\n",
       "       [-1, -1, -1, -1, -1, -1, -1, -1, -1, -1,  9]])"
      ]
     },
     "execution_count": 10,
     "metadata": {},
     "output_type": "execute_result"
    }
   ],
   "source": [
    "b[n-1][c] = 9\n",
    "b"
   ]
  },
  {
   "cell_type": "code",
   "execution_count": null,
   "metadata": {},
   "outputs": [],
   "source": []
  }
 ],
 "metadata": {
  "kernelspec": {
   "display_name": "Python 3",
   "language": "python",
   "name": "python3"
  },
  "language_info": {
   "codemirror_mode": {
    "name": "ipython",
    "version": 3
   },
   "file_extension": ".py",
   "mimetype": "text/x-python",
   "name": "python",
   "nbconvert_exporter": "python",
   "pygments_lexer": "ipython3",
   "version": "3.7.0"
  }
 },
 "nbformat": 4,
 "nbformat_minor": 2
}
