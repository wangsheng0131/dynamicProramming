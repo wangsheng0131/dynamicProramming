{
 "cells": [
  {
   "cell_type": "markdown",
   "metadata": {},
   "source": [
    "# 最长上升子序列\n",
    "\n",
    "- 最长：输出长度就可以了\n",
    "- 上升：严格上升\n",
    "- 子序列：不要求子序列上连续的"
   ]
  },
  {
   "cell_type": "code",
   "execution_count": 1,
   "metadata": {},
   "outputs": [],
   "source": [
    "import time\n",
    "def countTime(func):\n",
    "    def wrapper(nums):\n",
    "        start_time = time.time()\n",
    "        func(nums)\n",
    "        count = time.time() - start_time\n",
    "        print(\"耗时：{}s\".format(count))\n",
    "    return wrapper"
   ]
  },
  {
   "cell_type": "code",
   "execution_count": 2,
   "metadata": {},
   "outputs": [
    {
     "data": {
      "text/plain": [
       "[24, 24, 23, 13, 28, 2, 3, 10, 29, 25]"
      ]
     },
     "execution_count": 2,
     "metadata": {},
     "output_type": "execute_result"
    }
   ],
   "source": [
    "import random\n",
    "n = 10\n",
    "test_nums = [random.randint(1, 30) for i in range(n)]\n",
    "test_nums"
   ]
  },
  {
   "cell_type": "markdown",
   "metadata": {},
   "source": [
    "## 动态规划解法"
   ]
  },
  {
   "cell_type": "code",
   "execution_count": 3,
   "metadata": {},
   "outputs": [
    {
     "name": "stdout",
     "output_type": "stream",
     "text": [
      "result: 4\n",
      "耗时：0.001981496810913086s\n"
     ]
    }
   ],
   "source": [
    "def lib(nums):\n",
    "    n = len(nums)\n",
    "    if n <= 0:\n",
    "        return 0\n",
    "    \n",
    "    memo = [1] * n \n",
    "    for i in range(1, n):\n",
    "        for j in range(i):\n",
    "            if nums[i] > nums[j]:\n",
    "                memo[i] = max(memo[i] , 1+memo[j])\n",
    "    return max(memo)\n",
    "\n",
    "@countTime\n",
    "def main(nums):\n",
    "    print(\"result:\", lib(nums))\n",
    "    \n",
    "main(test_nums)"
   ]
  },
  {
   "cell_type": "code",
   "execution_count": null,
   "metadata": {},
   "outputs": [],
   "source": []
  }
 ],
 "metadata": {
  "kernelspec": {
   "display_name": "Python 3",
   "language": "python",
   "name": "python3"
  },
  "language_info": {
   "codemirror_mode": {
    "name": "ipython",
    "version": 3
   },
   "file_extension": ".py",
   "mimetype": "text/x-python",
   "name": "python",
   "nbconvert_exporter": "python",
   "pygments_lexer": "ipython3",
   "version": "3.7.0"
  }
 },
 "nbformat": 4,
 "nbformat_minor": 2
}
