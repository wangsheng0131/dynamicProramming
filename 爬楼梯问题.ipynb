{
 "cells": [
  {
   "cell_type": "markdown",
   "metadata": {},
   "source": [
    "问题：\n",
    "- 有一个楼梯，总共有n阶台阶。每一次，可以上一个台阶，也可以上两个台阶。问爬上这样一个楼梯，一共有多少种方法？"
   ]
  },
  {
   "cell_type": "code",
   "execution_count": 1,
   "metadata": {},
   "outputs": [],
   "source": [
    "import time\n",
    "def countTime(func):\n",
    "    def wrapper(n):\n",
    "        start_time = time.time()\n",
    "        func(n)\n",
    "        count = time.time() - start_time\n",
    "        print(\"耗时：{}s\".format(count))\n",
    "    return wrapper"
   ]
  },
  {
   "cell_type": "code",
   "execution_count": 2,
   "metadata": {},
   "outputs": [],
   "source": [
    "def climbing_stairs(n):\n",
    "    \"\"\"返回爬楼梯的方法总数\"\"\"\n",
    "    memo = [-1] * (n+1)\n",
    "    memo[0] = 1\n",
    "    memo[1] = 1\n",
    "    for i in range(2, n+1):\n",
    "        memo[i] = memo[i-1] + memo[i-2]\n",
    "    return memo[n]"
   ]
  },
  {
   "cell_type": "code",
   "execution_count": 3,
   "metadata": {},
   "outputs": [],
   "source": [
    "@countTime\n",
    "def main(n):\n",
    "    print(\"climbing_stairs_methods:{}\".format(climbing_stairs(n)))\n",
    "\n",
    "main(10)"
   ]
  },
  {
   "cell_type": "code",
   "execution_count": null,
   "metadata": {},
   "outputs": [],
   "source": []
  }
 ],
 "metadata": {
  "kernelspec": {
   "display_name": "Python 3",
   "language": "python",
   "name": "python3"
  },
  "language_info": {
   "codemirror_mode": {
    "name": "ipython",
    "version": 3
   },
   "file_extension": ".py",
   "mimetype": "text/x-python",
   "name": "python",
   "nbconvert_exporter": "python",
   "pygments_lexer": "ipython3",
   "version": "3.6.5"
  }
 },
 "nbformat": 4,
 "nbformat_minor": 2
}
